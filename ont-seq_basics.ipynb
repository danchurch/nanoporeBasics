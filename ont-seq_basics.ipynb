{
 "cells": [
  {
   "cell_type": "markdown",
   "id": "273f247e-e473-4e52-a902-e984d3a17c63",
   "metadata": {},
   "source": [
    "# Nanopore sequencing basics\n",
    "\n",
    "## Helpful resources\n",
    "\n",
    "## Check if Guppy and dependencies are installed"
   ]
  },
  {
   "cell_type": "code",
   "execution_count": 1,
   "id": "a8b01374-506f-4e55-94ce-6db27441e6bd",
   "metadata": {},
   "outputs": [
    {
     "name": "stdout",
     "output_type": "stream",
     "text": [
      ": Guppy Basecalling Software, (C) Oxford Nanopore Technologies plc. Version 6.3.7+532d626, minimap2 version 2.22-r1101\n",
      "\n",
      "Use of this software is permitted solely under the terms of the end user license agreement (EULA).By running, copying or accessing this software, you are demonstrating your acceptance of the EULA.\n",
      "The EULA may be found in /opt/ont/guppy/bin\n",
      "CRASHPAD MESSAGE: \n"
     ]
    }
   ],
   "source": [
    "!guppy_basecaller --version"
   ]
  },
  {
   "cell_type": "code",
   "execution_count": 3,
   "id": "c8241e70-b1d9-4df1-9886-2ea8e6337f2e",
   "metadata": {},
   "outputs": [
    {
     "name": "stdout",
     "output_type": "stream",
     "text": [
      "Wed Sep 14 17:11:10 2022       \n",
      "+-----------------------------------------------------------------------------+\n",
      "| NVIDIA-SMI 515.65.01    Driver Version: 515.65.01    CUDA Version: 11.7     |\n",
      "|-------------------------------+----------------------+----------------------+\n",
      "| GPU  Name        Persistence-M| Bus-Id        Disp.A | Volatile Uncorr. ECC |\n",
      "| Fan  Temp  Perf  Pwr:Usage/Cap|         Memory-Usage | GPU-Util  Compute M. |\n",
      "|                               |                      |               MIG M. |\n",
      "|===============================+======================+======================|\n",
      "|   0  NVIDIA GeForce ...  On   | 00000000:01:00.0  On |                  N/A |\n",
      "| 30%   38C    P8     8W / 200W |    371MiB /  8192MiB |      2%      Default |\n",
      "|                               |                      |                  N/A |\n",
      "+-------------------------------+----------------------+----------------------+\n",
      "                                                                               \n",
      "+-----------------------------------------------------------------------------+\n",
      "| Processes:                                                                  |\n",
      "|  GPU   GI   CI        PID   Type   Process name                  GPU Memory |\n",
      "|        ID   ID                                                   Usage      |\n",
      "|=============================================================================|\n",
      "|    0   N/A  N/A      1175      G   /usr/lib/xorg/Xorg                 35MiB |\n",
      "|    0   N/A  N/A      1717      G   /usr/lib/xorg/Xorg                 95MiB |\n",
      "|    0   N/A  N/A      1847      G   /usr/bin/gnome-shell               86MiB |\n",
      "|    0   N/A  N/A      2296      G   /usr/lib/firefox/firefox          141MiB |\n",
      "+-----------------------------------------------------------------------------+\n"
     ]
    }
   ],
   "source": [
    "!nvidia-smi"
   ]
  },
  {
   "cell_type": "code",
   "execution_count": 2,
   "id": "9ca1fd53-ac86-45d3-8532-9c1490630009",
   "metadata": {},
   "outputs": [
    {
     "name": "stdout",
     "output_type": "stream",
     "text": [
      "nvcc: NVIDIA (R) Cuda compiler driver\n",
      "Copyright (c) 2005-2019 NVIDIA Corporation\n",
      "Built on Sun_Jul_28_19:07:16_PDT_2019\n",
      "Cuda compilation tools, release 10.1, V10.1.243\n"
     ]
    }
   ],
   "source": [
    "!nvcc -V"
   ]
  },
  {
   "cell_type": "markdown",
   "id": "ce5f352c-42c6-4179-8577-84b090cd7243",
   "metadata": {},
   "source": [
    "## Tutorial: denbi nanopore training course\n",
    "    \n",
    "https://denbi-nanopore-training-course.readthedocs.io/en/latest/index.html\n",
    "\n",
    "Tutorial dataset is stored here:"
   ]
  },
  {
   "cell_type": "code",
   "execution_count": 5,
   "id": "fa7cb963-90b6-4ba8-adce-ebc8e66c1a1c",
   "metadata": {},
   "outputs": [
    {
     "name": "stdout",
     "output_type": "stream",
     "text": [
      "fast5  fast5_small  fast5_tiny\tillumina  Reference.fna\n"
     ]
    }
   ],
   "source": [
    "!ls /home/emic/testing/denbi_guppy_tut/data/"
   ]
  },
  {
   "cell_type": "code",
   "execution_count": 15,
   "id": "d6df91be-c7f5-48a4-acae-9f67ee84b5c2",
   "metadata": {},
   "outputs": [
    {
     "name": "stdout",
     "output_type": "stream",
     "text": [
      "/home/emic/testing/denbi_guppy_tut\n"
     ]
    }
   ],
   "source": [
    "cd testing/denbi_guppy_tut/"
   ]
  },
  {
   "cell_type": "markdown",
   "id": "54ed28c8-ab07-465b-9fba-b164c849d3f9",
   "metadata": {},
   "source": [
    "### Basecalling with CPU"
   ]
  },
  {
   "cell_type": "code",
   "execution_count": 16,
   "id": "25fb54e7-feb9-47ff-b945-3f8262e6c402",
   "metadata": {},
   "outputs": [
    {
     "name": "stdout",
     "output_type": "stream",
     "text": [
      "CRASHPAD MESSAGE: \n",
      "ONT Guppy basecalling software version 6.3.7+532d626, minimap2 version 2.22-r1101\n",
      "config file:        /opt/ont/guppy/data/dna_r9.4.1_450bps_hac.cfg\n",
      "model file:         /opt/ont/guppy/data/template_r9.4.1_450bps_hac.jsn\n",
      "input path:         data/fast5_tiny/\n",
      "save path:          basecall_tiny_cpu/\n",
      "chunk size:         2000\n",
      "chunks per runner:  256\n",
      "minimum qscore:     9\n",
      "records per file:   4000\n",
      "fastq compression:  ON\n",
      "num basecallers:    1\n",
      "cpu mode:           ON\n",
      "threads per caller: 14\n",
      "\n",
      "Use of this software is permitted solely under the terms of the end user license agreement (EULA).By running, copying or accessing this software, you are demonstrating your acceptance of the EULA.\n",
      "The EULA may be found in /opt/ont/guppy/bin\n",
      "Found 1 input read file to process.\n",
      "Init time: 182 ms\n",
      "\n",
      "0%   10   20   30   40   50   60   70   80   90   100%\n",
      "|----|----|----|----|----|----|----|----|----|----|\n",
      "***************************************************\n",
      "Caller time: 802448 ms, Samples called: 27619692, samples/s: 34419.3\n",
      "Finishing up any open output files.\n",
      "Basecalling completed successfully.\n"
     ]
    }
   ],
   "source": [
    "!guppy_basecaller --compress_fastq -i data/fast5_tiny/ -s basecall_tiny_cpu/ --cpu_threads_per_caller 14 --num_callers 1 -c dna_r9.4.1_450bps_hac.cfg"
   ]
  },
  {
   "cell_type": "markdown",
   "id": "eddcf347-467f-4917-8482-1f3cc65cc17a",
   "metadata": {},
   "source": [
    "### Basecalling with GPU"
   ]
  },
  {
   "cell_type": "code",
   "execution_count": 17,
   "id": "35fdf66c-da82-4765-b04d-cb89c0d595fd",
   "metadata": {},
   "outputs": [
    {
     "name": "stdout",
     "output_type": "stream",
     "text": [
      "CRASHPAD MESSAGE: \n",
      "ONT Guppy basecalling software version 6.3.7+532d626, minimap2 version 2.22-r1101\n",
      "config file:        /opt/ont/guppy/data/dna_r9.4.1_450bps_hac.cfg\n",
      "model file:         /opt/ont/guppy/data/template_r9.4.1_450bps_hac.jsn\n",
      "input path:         data/fast5_tiny/\n",
      "save path:          basecall_tiny_gpu/\n",
      "chunk size:         2000\n",
      "chunks per runner:  256\n",
      "minimum qscore:     9\n",
      "records per file:   4000\n",
      "fastq compression:  ON\n",
      "num basecallers:    1\n",
      "gpu device:         cuda:0\n",
      "kernel path:        \n",
      "runners per device: 4\n",
      "\n",
      "Use of this software is permitted solely under the terms of the end user license agreement (EULA).By running, copying or accessing this software, you are demonstrating your acceptance of the EULA.\n",
      "The EULA may be found in /opt/ont/guppy/bin\n",
      "Found 1 input read file to process.\n",
      "Init time: 688 ms\n",
      "\n",
      "0%   10   20   30   40   50   60   70   80   90   100%\n",
      "|----|----|----|----|----|----|----|----|----|----|\n",
      "***************************************************\n",
      "Caller time: 3709 ms, Samples called: 27619692, samples/s: 7.44667e+06\n",
      "Finishing up any open output files.\n",
      "Basecalling completed successfully.\n"
     ]
    }
   ],
   "source": [
    "!guppy_basecaller --compress_fastq -i data/fast5_tiny/ -s basecall_tiny_gpu/ --cpu_threads_per_caller 14 --num_callers 1 -c dna_r9.4.1_450bps_hac.cfg -x \"cuda:0\""
   ]
  },
  {
   "cell_type": "markdown",
   "id": "ccddd768-6322-41e6-bae5-810f302b45be",
   "metadata": {},
   "source": [
    "Notice that GPU-basecalling is much faster."
   ]
  },
  {
   "cell_type": "code",
   "execution_count": 18,
   "id": "4be4cae8-4176-4e3d-9aaa-d33a48c4be4f",
   "metadata": {},
   "outputs": [
    {
     "name": "stdout",
     "output_type": "stream",
     "text": [
      "\u001b[0m\u001b[01;34mbasecall_tiny_cpu\u001b[0m/  \u001b[01;34mbasecall_tiny_gpu\u001b[0m/  \u001b[01;34mdata\u001b[0m/\n"
     ]
    }
   ],
   "source": [
    "ls"
   ]
  }
 ],
 "metadata": {
  "kernelspec": {
   "display_name": "Python 3 (ipykernel)",
   "language": "python",
   "name": "python3"
  },
  "language_info": {
   "codemirror_mode": {
    "name": "ipython",
    "version": 3
   },
   "file_extension": ".py",
   "mimetype": "text/x-python",
   "name": "python",
   "nbconvert_exporter": "python",
   "pygments_lexer": "ipython3",
   "version": "3.10.6"
  }
 },
 "nbformat": 4,
 "nbformat_minor": 5
}
